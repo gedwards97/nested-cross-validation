{
 "cells": [
  {
   "cell_type": "markdown",
   "id": "8931cfe7",
   "metadata": {},
   "source": [
    "# SVC Nested Cross-Validation \n",
    "\n",
    "Here I will attempt to implement a nested cross-validation scheme in order to optimise a Support Vector Classification model via performing model selection and hyperparameter tuning simulatenously. "
   ]
  },
  {
   "cell_type": "code",
   "execution_count": 1,
   "id": "9268f7d7",
   "metadata": {},
   "outputs": [],
   "source": [
    "# Importing general packagaes \n",
    "import numpy as np\n",
    "import pandas as pd\n",
    "import matplotlib.pyplot as plt"
   ]
  },
  {
   "cell_type": "code",
   "execution_count": null,
   "id": "ddfcf20f",
   "metadata": {},
   "outputs": [],
   "source": []
  }
 ],
 "metadata": {
  "kernelspec": {
   "display_name": "Python 3",
   "language": "python",
   "name": "python3"
  },
  "language_info": {
   "codemirror_mode": {
    "name": "ipython",
    "version": 3
   },
   "file_extension": ".py",
   "mimetype": "text/x-python",
   "name": "python",
   "nbconvert_exporter": "python",
   "pygments_lexer": "ipython3",
   "version": "3.7.10"
  }
 },
 "nbformat": 4,
 "nbformat_minor": 5
}
